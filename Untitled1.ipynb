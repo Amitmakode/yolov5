{
 "cells": [
  {
   "cell_type": "code",
   "execution_count": null,
   "id": "8c091947-72ba-4d1a-890c-d73dc488e3e4",
   "metadata": {},
   "outputs": [],
   "source": [
    "int\n",
    "float\n",
    "bool\n",
    "complex"
   ]
  },
  {
   "cell_type": "code",
   "execution_count": null,
   "id": "a5404747-6b9f-4d9c-8d26-b49bd7e675a5",
   "metadata": {},
   "outputs": [],
   "source": [
    "string\n",
    "list\n",
    "tuple\n",
    "set\n",
    "dict"
   ]
  },
  {
   "cell_type": "code",
   "execution_count": null,
   "id": "70e65c9e-61c5-499a-95d6-c0c9678e8c96",
   "metadata": {},
   "outputs": [],
   "source": [
    "+\n",
    "-\n",
    "*\n",
    "/\n",
    "%\n",
    "//\n",
    "**"
   ]
  },
  {
   "cell_type": "code",
   "execution_count": null,
   "id": "9fd0b3e8-6bcc-494e-b6d1-8161dd55e35f",
   "metadata": {},
   "outputs": [],
   "source": [
    "==\n",
    ">\n",
    "<\n",
    ">=\n",
    "<=\n",
    "!="
   ]
  },
  {
   "cell_type": "code",
   "execution_count": null,
   "id": "67b6b075-a64f-4620-89b9-3b50d1e47853",
   "metadata": {},
   "outputs": [],
   "source": [
    "and\n",
    "or\n",
    "not\n",
    "is\n",
    "in"
   ]
  },
  {
   "cell_type": "code",
   "execution_count": null,
   "id": "fa22295a-8222-4a53-9bdd-f6f4b1b77105",
   "metadata": {},
   "outputs": [],
   "source": [
    "="
   ]
  },
  {
   "cell_type": "code",
   "execution_count": null,
   "id": "311fc036-6960-427b-9db8-ce28cc5375b3",
   "metadata": {},
   "outputs": [],
   "source": [
    "var =\n",
    "first_name = \n",
    "1name = \n",
    "name23 =\n",
    "_ ="
   ]
  },
  {
   "cell_type": "code",
   "execution_count": 1,
   "id": "1efc61c8-65bf-4dee-8261-af23a052ee95",
   "metadata": {},
   "outputs": [],
   "source": [
    "lang = \"C++\"\n",
    "ds_lang = (\"py\", \"R\")\n",
    "front_end = [\"Js\", \"html\", \"css\"]\n",
    "back_end = {\"py\", \"java\", \"c++\"}"
   ]
  },
  {
   "cell_type": "code",
   "execution_count": 3,
   "id": "b113c8e0-3788-417e-ace9-ea88c63f760e",
   "metadata": {},
   "outputs": [
    {
     "data": {
      "text/plain": [
       "str"
      ]
     },
     "execution_count": 3,
     "metadata": {},
     "output_type": "execute_result"
    }
   ],
   "source": [
    "type(lang)"
   ]
  },
  {
   "cell_type": "code",
   "execution_count": 4,
   "id": "19a2f889-91ac-4a2d-8d0b-090fca7b162d",
   "metadata": {},
   "outputs": [
    {
     "data": {
      "text/plain": [
       "'C++'"
      ]
     },
     "execution_count": 4,
     "metadata": {},
     "output_type": "execute_result"
    }
   ],
   "source": [
    "lang"
   ]
  },
  {
   "cell_type": "markdown",
   "id": "48610e13-a660-437e-97c3-1abe711608eb",
   "metadata": {},
   "source": [
    "### Typecsting"
   ]
  },
  {
   "cell_type": "code",
   "execution_count": 5,
   "id": "59911486-4c20-4837-ae14-00914b6fb9a7",
   "metadata": {},
   "outputs": [
    {
     "data": {
      "text/plain": [
       "['C', '+', '+']"
      ]
     },
     "execution_count": 5,
     "metadata": {},
     "output_type": "execute_result"
    }
   ],
   "source": [
    "list(lang)"
   ]
  },
  {
   "cell_type": "code",
   "execution_count": 6,
   "id": "a743a675-b1fa-4c83-bfee-774ef6488964",
   "metadata": {},
   "outputs": [],
   "source": [
    "num = 756465"
   ]
  },
  {
   "cell_type": "code",
   "execution_count": 7,
   "id": "bdf384a4-5929-40c0-adab-06fdb670e247",
   "metadata": {},
   "outputs": [
    {
     "data": {
      "text/plain": [
       "756465"
      ]
     },
     "execution_count": 7,
     "metadata": {},
     "output_type": "execute_result"
    }
   ],
   "source": [
    "num"
   ]
  },
  {
   "cell_type": "code",
   "execution_count": 8,
   "id": "f82ed65f-2b69-4dc7-9d8b-1cc97295f9bc",
   "metadata": {},
   "outputs": [
    {
     "ename": "TypeError",
     "evalue": "'int' object is not iterable",
     "output_type": "error",
     "traceback": [
      "\u001b[1;31m---------------------------------------------------------------------------\u001b[0m",
      "\u001b[1;31mTypeError\u001b[0m                                 Traceback (most recent call last)",
      "Cell \u001b[1;32mIn[8], line 1\u001b[0m\n\u001b[1;32m----> 1\u001b[0m \u001b[38;5;28mlist\u001b[39m(num)\n",
      "\u001b[1;31mTypeError\u001b[0m: 'int' object is not iterable"
     ]
    }
   ],
   "source": [
    "list(num)"
   ]
  },
  {
   "cell_type": "code",
   "execution_count": 9,
   "id": "e7063631-8c95-4c36-9be3-ed8d45a0e75b",
   "metadata": {},
   "outputs": [
    {
     "data": {
      "text/plain": [
       "756465.0"
      ]
     },
     "execution_count": 9,
     "metadata": {},
     "output_type": "execute_result"
    }
   ],
   "source": [
    "float(num)"
   ]
  },
  {
   "cell_type": "code",
   "execution_count": 10,
   "id": "6c6b1988-fadc-492a-9392-b435b7e2d840",
   "metadata": {},
   "outputs": [
    {
     "data": {
      "text/plain": [
       "(756465+0j)"
      ]
     },
     "execution_count": 10,
     "metadata": {},
     "output_type": "execute_result"
    }
   ],
   "source": [
    "complex(num)"
   ]
  },
  {
   "cell_type": "code",
   "execution_count": 12,
   "id": "19a12382-8436-4848-8be0-8beefeb84549",
   "metadata": {},
   "outputs": [
    {
     "data": {
      "text/plain": [
       "['7', '5', '6', '4', '6', '5']"
      ]
     },
     "execution_count": 12,
     "metadata": {},
     "output_type": "execute_result"
    }
   ],
   "source": [
    "list(str(num))"
   ]
  },
  {
   "cell_type": "code",
   "execution_count": 13,
   "id": "22bdafa0-3f08-43d3-8cae-a72752f834f4",
   "metadata": {},
   "outputs": [
    {
     "data": {
      "text/plain": [
       "('7', '5', '6', '4', '6', '5')"
      ]
     },
     "execution_count": 13,
     "metadata": {},
     "output_type": "execute_result"
    }
   ],
   "source": [
    "tuple(str(num))"
   ]
  },
  {
   "cell_type": "code",
   "execution_count": 14,
   "id": "1bc1ad9f-dbe0-446d-a38c-320681e1f3eb",
   "metadata": {},
   "outputs": [
    {
     "data": {
      "text/plain": [
       "{'4', '5', '6', '7'}"
      ]
     },
     "execution_count": 14,
     "metadata": {},
     "output_type": "execute_result"
    }
   ],
   "source": [
    "set(str(num))"
   ]
  },
  {
   "cell_type": "code",
   "execution_count": 15,
   "id": "4220842c-3f12-40ef-91dc-4f14a5fe7bff",
   "metadata": {},
   "outputs": [],
   "source": [
    "l1 = [2,3,5,5,7,8,8]"
   ]
  },
  {
   "cell_type": "code",
   "execution_count": 16,
   "id": "1147749b-dd92-4e16-b2f6-91819f4e11ad",
   "metadata": {},
   "outputs": [
    {
     "data": {
      "text/plain": [
       "[2, 3, 5, 5, 7, 8, 8]"
      ]
     },
     "execution_count": 16,
     "metadata": {},
     "output_type": "execute_result"
    }
   ],
   "source": [
    "l1"
   ]
  },
  {
   "cell_type": "code",
   "execution_count": 17,
   "id": "20607bbc-30f4-46cd-b7c1-6f28fb79155e",
   "metadata": {},
   "outputs": [
    {
     "data": {
      "text/plain": [
       "(2, 3, 5, 5, 7, 8, 8)"
      ]
     },
     "execution_count": 17,
     "metadata": {},
     "output_type": "execute_result"
    }
   ],
   "source": [
    "tuple(l1)"
   ]
  },
  {
   "cell_type": "code",
   "execution_count": 18,
   "id": "540ba3c9-62c4-44f4-b5b6-3fd9a939f0f1",
   "metadata": {},
   "outputs": [
    {
     "data": {
      "text/plain": [
       "{2, 3, 5, 7, 8}"
      ]
     },
     "execution_count": 18,
     "metadata": {},
     "output_type": "execute_result"
    }
   ],
   "source": [
    "set(l1)"
   ]
  },
  {
   "cell_type": "code",
   "execution_count": 19,
   "id": "724ab62e-b231-4d2e-8bcb-b469d0d09e12",
   "metadata": {},
   "outputs": [
    {
     "data": {
      "text/plain": [
       "'[2, 3, 5, 5, 7, 8, 8]'"
      ]
     },
     "execution_count": 19,
     "metadata": {},
     "output_type": "execute_result"
    }
   ],
   "source": [
    "str(l1)"
   ]
  },
  {
   "cell_type": "code",
   "execution_count": 21,
   "id": "e1cc578c-c7db-41fb-9abf-ef3c608e14af",
   "metadata": {},
   "outputs": [],
   "source": [
    "number = 76574656"
   ]
  },
  {
   "cell_type": "code",
   "execution_count": 22,
   "id": "f1d15aba-5455-482e-a344-6cc9aa65cafa",
   "metadata": {},
   "outputs": [
    {
     "data": {
      "text/plain": [
       "True"
      ]
     },
     "execution_count": 22,
     "metadata": {},
     "output_type": "execute_result"
    }
   ],
   "source": [
    "bool(number)"
   ]
  },
  {
   "cell_type": "code",
   "execution_count": 23,
   "id": "0ed8e91a-fbe5-420d-a407-e2efd9acb3ae",
   "metadata": {},
   "outputs": [
    {
     "data": {
      "text/plain": [
       "True"
      ]
     },
     "execution_count": 23,
     "metadata": {},
     "output_type": "execute_result"
    }
   ],
   "source": [
    "bool(1)"
   ]
  },
  {
   "cell_type": "code",
   "execution_count": 26,
   "id": "08a90f40-d80e-47f0-8c67-291f4569589a",
   "metadata": {},
   "outputs": [
    {
     "data": {
      "text/plain": [
       "True"
      ]
     },
     "execution_count": 26,
     "metadata": {},
     "output_type": "execute_result"
    }
   ],
   "source": [
    "bool(765.78)"
   ]
  },
  {
   "cell_type": "code",
   "execution_count": 30,
   "id": "00585f42-6b6a-4f54-acd3-1fa8835009ad",
   "metadata": {},
   "outputs": [
    {
     "data": {
      "text/plain": [
       "False"
      ]
     },
     "execution_count": 30,
     "metadata": {},
     "output_type": "execute_result"
    }
   ],
   "source": [
    "bool(0)"
   ]
  },
  {
   "cell_type": "code",
   "execution_count": 32,
   "id": "91f5984f-fb9c-4069-8413-a33f1c978252",
   "metadata": {},
   "outputs": [],
   "source": [
    "l2 = [(1,2), (3, 4), (5, 6), (7,8)]"
   ]
  },
  {
   "cell_type": "code",
   "execution_count": 33,
   "id": "d1a73dbe-d60d-47b7-9c28-903c1677d203",
   "metadata": {},
   "outputs": [
    {
     "data": {
      "text/plain": [
       "{(1, 2), (3, 4), (5, 6), (7, 8)}"
      ]
     },
     "execution_count": 33,
     "metadata": {},
     "output_type": "execute_result"
    }
   ],
   "source": [
    "set(l2)"
   ]
  },
  {
   "cell_type": "code",
   "execution_count": 35,
   "id": "7aee42e5-f4f7-4437-88dc-bb4fe1a08687",
   "metadata": {},
   "outputs": [
    {
     "data": {
      "text/plain": [
       "((1, 2), (3, 4), (5, 6), (7, 8))"
      ]
     },
     "execution_count": 35,
     "metadata": {},
     "output_type": "execute_result"
    }
   ],
   "source": [
    "tuple(l2)"
   ]
  },
  {
   "cell_type": "code",
   "execution_count": 36,
   "id": "bca47f14-5311-441c-847d-18c1c95723c0",
   "metadata": {},
   "outputs": [
    {
     "data": {
      "text/plain": [
       "{1: 2, 3: 4, 5: 6, 7: 8}"
      ]
     },
     "execution_count": 36,
     "metadata": {},
     "output_type": "execute_result"
    }
   ],
   "source": [
    "dict(l2)"
   ]
  },
  {
   "cell_type": "code",
   "execution_count": 38,
   "id": "c28f80df-78da-4da9-b906-1d4f412bd054",
   "metadata": {},
   "outputs": [
    {
     "data": {
      "text/plain": [
       "304.0"
      ]
     },
     "execution_count": 38,
     "metadata": {},
     "output_type": "execute_result"
    }
   ],
   "source": [
    "10 + 20 *(30/2) + 40%11 - 40//3"
   ]
  },
  {
   "cell_type": "code",
   "execution_count": 40,
   "id": "292307d2-56ca-4bb4-b2ec-104845903fa8",
   "metadata": {},
   "outputs": [
    {
     "data": {
      "text/plain": [
       "True"
      ]
     },
     "execution_count": 40,
     "metadata": {},
     "output_type": "execute_result"
    }
   ],
   "source": [
    "10 > 20 and 30 < 20 or 30 < 40 or 11 == 10"
   ]
  },
  {
   "cell_type": "code",
   "execution_count": 41,
   "id": "1a6b01d9-3bbc-464b-87d4-8ea88b84f9f8",
   "metadata": {},
   "outputs": [
    {
     "data": {
      "text/plain": [
       "False"
      ]
     },
     "execution_count": 41,
     "metadata": {},
     "output_type": "execute_result"
    }
   ],
   "source": [
    "10 > 20"
   ]
  },
  {
   "cell_type": "code",
   "execution_count": 42,
   "id": "77272af6-164c-4993-8be9-94a28b12fe72",
   "metadata": {},
   "outputs": [
    {
     "data": {
      "text/plain": [
       "False"
      ]
     },
     "execution_count": 42,
     "metadata": {},
     "output_type": "execute_result"
    }
   ],
   "source": [
    " 30 < 20"
   ]
  },
  {
   "cell_type": "code",
   "execution_count": 43,
   "id": "0efe4251-0599-4ff6-87b5-000ba6615bbe",
   "metadata": {},
   "outputs": [
    {
     "data": {
      "text/plain": [
       "True"
      ]
     },
     "execution_count": 43,
     "metadata": {},
     "output_type": "execute_result"
    }
   ],
   "source": [
    "30 < 40"
   ]
  },
  {
   "cell_type": "code",
   "execution_count": 44,
   "id": "0141f350-e6ba-4561-b584-7dc95c704e00",
   "metadata": {},
   "outputs": [
    {
     "data": {
      "text/plain": [
       "False"
      ]
     },
     "execution_count": 44,
     "metadata": {},
     "output_type": "execute_result"
    }
   ],
   "source": [
    "11 == 10"
   ]
  },
  {
   "cell_type": "code",
   "execution_count": 45,
   "id": "656505cf-3e9b-423f-bb97-ba83bfb705a5",
   "metadata": {},
   "outputs": [],
   "source": [
    "num1 = 23\n",
    "num2 = 10\n",
    "num3 = 15\n",
    "\n",
    "num4 = 30.50\n",
    "num5 = 2.5\n",
    "num5 = 0.05"
   ]
  },
  {
   "cell_type": "code",
   "execution_count": null,
   "id": "c0cf726e-e32b-45eb-91e6-3a16e1b9a4e5",
   "metadata": {},
   "outputs": [],
   "source": [
    "list1 = [1,2,3,4,6,5,]\n",
    "list2 = [\"a\", \"b\", \"c\", \"d\"]"
   ]
  },
  {
   "cell_type": "code",
   "execution_count": 46,
   "id": "ef2f7f6e-085a-47f3-ad85-cf70c4216346",
   "metadata": {},
   "outputs": [],
   "source": [
    "list3 = [num1, num2]"
   ]
  },
  {
   "cell_type": "code",
   "execution_count": 47,
   "id": "ae872a84-6b50-4235-99fa-dbd826d13ccb",
   "metadata": {},
   "outputs": [
    {
     "data": {
      "text/plain": [
       "[23, 10]"
      ]
     },
     "execution_count": 47,
     "metadata": {},
     "output_type": "execute_result"
    }
   ],
   "source": [
    "list3"
   ]
  },
  {
   "cell_type": "code",
   "execution_count": 48,
   "id": "4b2f3e6e-fc9f-44bd-b144-027357f43997",
   "metadata": {},
   "outputs": [],
   "source": [
    "set1 = {\"red\", \"pink\", \"yellow\", \"white\", \"blue\"}"
   ]
  },
  {
   "cell_type": "code",
   "execution_count": 49,
   "id": "ca6586ff-5cc9-460f-af4a-654feb73bdc7",
   "metadata": {},
   "outputs": [
    {
     "data": {
      "text/plain": [
       "{'blue', 'pink', 'red', 'white', 'yellow'}"
      ]
     },
     "execution_count": 49,
     "metadata": {},
     "output_type": "execute_result"
    }
   ],
   "source": [
    "set1"
   ]
  },
  {
   "cell_type": "code",
   "execution_count": 50,
   "id": "10cdc7e6-513d-4303-81b5-4414b3356750",
   "metadata": {},
   "outputs": [],
   "source": [
    "months = {\"jan\":31, \"feb\": 28, } "
   ]
  },
  {
   "cell_type": "code",
   "execution_count": 51,
   "id": "879ac2fd-5a53-412e-86c6-38cd12166061",
   "metadata": {},
   "outputs": [
    {
     "data": {
      "text/plain": [
       "{'jan': 31, 'feb': 28}"
      ]
     },
     "execution_count": 51,
     "metadata": {},
     "output_type": "execute_result"
    }
   ],
   "source": [
    "months"
   ]
  },
  {
   "cell_type": "code",
   "execution_count": 54,
   "id": "3f249484-dcf5-49b2-be05-291090e23405",
   "metadata": {},
   "outputs": [],
   "source": [
    "tup = (\"banana\", \"chiku\", \"pinapple\", \"apple\", \"orange\")"
   ]
  },
  {
   "cell_type": "code",
   "execution_count": 55,
   "id": "b1cdf4ec-a863-4a6f-97b3-923b8bc0bd3c",
   "metadata": {},
   "outputs": [
    {
     "data": {
      "text/plain": [
       "('banana', 'chiku', 'pinapple', 'apple', 'orange')"
      ]
     },
     "execution_count": 55,
     "metadata": {},
     "output_type": "execute_result"
    }
   ],
   "source": [
    "tup"
   ]
  },
  {
   "cell_type": "code",
   "execution_count": 56,
   "id": "58f304fe-c302-435b-ac32-d03ff08d5d06",
   "metadata": {},
   "outputs": [
    {
     "data": {
      "text/plain": [
       "33"
      ]
     },
     "execution_count": 56,
     "metadata": {},
     "output_type": "execute_result"
    }
   ],
   "source": [
    "num1 + num2"
   ]
  },
  {
   "cell_type": "code",
   "execution_count": 57,
   "id": "d988952d-ec2e-46db-8196-7cf82bd21e86",
   "metadata": {},
   "outputs": [
    {
     "data": {
      "text/plain": [
       "100"
      ]
     },
     "execution_count": 57,
     "metadata": {},
     "output_type": "execute_result"
    }
   ],
   "source": [
    "num2**2"
   ]
  },
  {
   "cell_type": "code",
   "execution_count": null,
   "id": "217389a4-02a0-4147-86e0-e598731321af",
   "metadata": {},
   "outputs": [],
   "source": []
  }
 ],
 "metadata": {
  "kernelspec": {
   "display_name": "Python 3 (ipykernel)",
   "language": "python",
   "name": "python3"
  },
  "language_info": {
   "codemirror_mode": {
    "name": "ipython",
    "version": 3
   },
   "file_extension": ".py",
   "mimetype": "text/x-python",
   "name": "python",
   "nbconvert_exporter": "python",
   "pygments_lexer": "ipython3",
   "version": "3.11.7"
  }
 },
 "nbformat": 4,
 "nbformat_minor": 5
}
