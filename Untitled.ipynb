{
 "cells": [
  {
   "cell_type": "markdown",
   "id": "a751a2d9-d8b5-4e6d-ba9e-187b501fc20e",
   "metadata": {},
   "source": [
    "### datatype"
   ]
  },
  {
   "cell_type": "markdown",
   "id": "fe97a576-d616-4929-a3d8-676b6f036879",
   "metadata": {},
   "source": [
    "1. non iterable\n",
    "2. iterable"
   ]
  },
  {
   "cell_type": "code",
   "execution_count": null,
   "id": "09e367f4-7eda-41bb-bf41-b8747453b16b",
   "metadata": {},
   "outputs": [],
   "source": [
    "#non-iterable\n",
    "int     = whole (34, 80, 757234)\n",
    "float   = decimal (20.5, 50.55, 34.436)\n",
    "bool    = True / False  #1/0\n",
    "complex = 34 + 5j   #34+5*2 "
   ]
  },
  {
   "cell_type": "code",
   "execution_count": null,
   "id": "9c0d3bac-9f26-4716-93e1-5a6faa4d5ded",
   "metadata": {},
   "outputs": [],
   "source": [
    "#iterable\n",
    "list    = [34, 4.5, True, 3+5j, \"python\", (), [], {}, {}]  \n",
    "tuple   = (34, 4.5, True, 3+5j, \"python\", (), [], {}, {})\n",
    "set     = {34, 4.5, True, 3+5j, \"python\", ()}\n",
    "string  = \" \", ' '  \"#&$\", '34234', \"     \"\n",
    "dict    = {\"a\":234, \"b\":[], \"c\":(), \"d\":{}}"
   ]
  },
  {
   "cell_type": "code",
   "execution_count": 1,
   "id": "fe4b48ae-f8ae-4301-95f7-4133d990d80c",
   "metadata": {},
   "outputs": [],
   "source": [
    "a = 65453"
   ]
  },
  {
   "cell_type": "code",
   "execution_count": 2,
   "id": "d9c23845-7117-4de2-8bb6-cb31b08832e9",
   "metadata": {},
   "outputs": [
    {
     "ename": "TypeError",
     "evalue": "'int' object is not subscriptable",
     "output_type": "error",
     "traceback": [
      "\u001b[1;31m---------------------------------------------------------------------------\u001b[0m",
      "\u001b[1;31mTypeError\u001b[0m                                 Traceback (most recent call last)",
      "Cell \u001b[1;32mIn[2], line 1\u001b[0m\n\u001b[1;32m----> 1\u001b[0m a[\u001b[38;5;241m2\u001b[39m]\n",
      "\u001b[1;31mTypeError\u001b[0m: 'int' object is not subscriptable"
     ]
    }
   ],
   "source": [
    "a[2]"
   ]
  },
  {
   "cell_type": "code",
   "execution_count": 3,
   "id": "484ad2cf-f3c4-4add-b3be-e11400c4a6bd",
   "metadata": {},
   "outputs": [],
   "source": [
    "var = \"python\""
   ]
  },
  {
   "cell_type": "code",
   "execution_count": 4,
   "id": "2a8357b9-5328-4351-b180-97cbdac6e7df",
   "metadata": {},
   "outputs": [
    {
     "data": {
      "text/plain": [
       "'t'"
      ]
     },
     "execution_count": 4,
     "metadata": {},
     "output_type": "execute_result"
    }
   ],
   "source": [
    "var[2]"
   ]
  },
  {
   "cell_type": "code",
   "execution_count": 64,
   "id": "c24c4382-5238-4dd6-acaa-c499c480a001",
   "metadata": {},
   "outputs": [
    {
     "data": {
      "text/plain": [
       "str"
      ]
     },
     "execution_count": 64,
     "metadata": {},
     "output_type": "execute_result"
    }
   ],
   "source": [
    "type(var)"
   ]
  },
  {
   "cell_type": "code",
   "execution_count": 5,
   "id": "52b30bd7-b2b3-4de6-8d34-59502f1d0590",
   "metadata": {},
   "outputs": [],
   "source": [
    "list1 = [1,2,3,4,5,5,6]"
   ]
  },
  {
   "cell_type": "code",
   "execution_count": 6,
   "id": "43616368-d7c8-4a56-bb3f-7b33bc559b5b",
   "metadata": {},
   "outputs": [
    {
     "data": {
      "text/plain": [
       "5"
      ]
     },
     "execution_count": 6,
     "metadata": {},
     "output_type": "execute_result"
    }
   ],
   "source": [
    "list1[4]"
   ]
  },
  {
   "cell_type": "code",
   "execution_count": 9,
   "id": "02a14c4f-9c1e-4ff4-8f38-6cb065938bcb",
   "metadata": {},
   "outputs": [
    {
     "data": {
      "text/plain": [
       "[1, 2, 3, 4, 5, 5, 6]"
      ]
     },
     "execution_count": 9,
     "metadata": {},
     "output_type": "execute_result"
    }
   ],
   "source": [
    "list1"
   ]
  },
  {
   "cell_type": "code",
   "execution_count": 10,
   "id": "e16e6cb9-2a65-4a2a-acbc-009a1a55e14b",
   "metadata": {},
   "outputs": [],
   "source": [
    "set = {1,2,3,4,4,5,6}"
   ]
  },
  {
   "cell_type": "code",
   "execution_count": 11,
   "id": "8dbdd8e1-f277-48c6-ab6d-b6827f684f58",
   "metadata": {},
   "outputs": [
    {
     "ename": "TypeError",
     "evalue": "'set' object is not subscriptable",
     "output_type": "error",
     "traceback": [
      "\u001b[1;31m---------------------------------------------------------------------------\u001b[0m",
      "\u001b[1;31mTypeError\u001b[0m                                 Traceback (most recent call last)",
      "Cell \u001b[1;32mIn[11], line 1\u001b[0m\n\u001b[1;32m----> 1\u001b[0m \u001b[38;5;28mset\u001b[39m[\u001b[38;5;241m2\u001b[39m]\n",
      "\u001b[1;31mTypeError\u001b[0m: 'set' object is not subscriptable"
     ]
    }
   ],
   "source": [
    "set[2]"
   ]
  },
  {
   "cell_type": "code",
   "execution_count": 12,
   "id": "4a55edc3-275f-46a3-89c8-5518700c5ff2",
   "metadata": {},
   "outputs": [
    {
     "data": {
      "text/plain": [
       "{1, 2, 3, 4, 5, 6}"
      ]
     },
     "execution_count": 12,
     "metadata": {},
     "output_type": "execute_result"
    }
   ],
   "source": [
    "set"
   ]
  },
  {
   "cell_type": "markdown",
   "id": "8b7c650c-0659-4d63-9b1f-18957bd258df",
   "metadata": {},
   "source": [
    "### Variables"
   ]
  },
  {
   "cell_type": "code",
   "execution_count": 13,
   "id": "2cbc4282-1117-4446-9f9b-7e9b57cdbcbd",
   "metadata": {},
   "outputs": [],
   "source": [
    "x = \"amit\""
   ]
  },
  {
   "cell_type": "code",
   "execution_count": 14,
   "id": "b66ccd89-2eee-46bf-9fa4-ad1796f1deb3",
   "metadata": {},
   "outputs": [
    {
     "data": {
      "text/plain": [
       "'amit'"
      ]
     },
     "execution_count": 14,
     "metadata": {},
     "output_type": "execute_result"
    }
   ],
   "source": [
    "x"
   ]
  },
  {
   "cell_type": "code",
   "execution_count": 15,
   "id": "09acbcb9-6991-4667-814e-c6d7d3804a04",
   "metadata": {},
   "outputs": [
    {
     "data": {
      "text/plain": [
       "str"
      ]
     },
     "execution_count": 15,
     "metadata": {},
     "output_type": "execute_result"
    }
   ],
   "source": [
    "type(x)"
   ]
  },
  {
   "cell_type": "code",
   "execution_count": 3,
   "id": "d6275f79-b476-4ced-8c02-cb3780d6e507",
   "metadata": {},
   "outputs": [],
   "source": [
    "x = 345"
   ]
  },
  {
   "cell_type": "code",
   "execution_count": 4,
   "id": "b46edad3-951a-48be-bc3e-7abe3fbc0cfd",
   "metadata": {},
   "outputs": [
    {
     "data": {
      "text/plain": [
       "int"
      ]
     },
     "execution_count": 4,
     "metadata": {},
     "output_type": "execute_result"
    }
   ],
   "source": [
    "type(x)"
   ]
  },
  {
   "cell_type": "code",
   "execution_count": 16,
   "id": "8e8ea23a-0394-4f5c-bc59-de54a80a93a8",
   "metadata": {},
   "outputs": [],
   "source": [
    "var = \"python\""
   ]
  },
  {
   "cell_type": "code",
   "execution_count": 17,
   "id": "59592910-e993-4bfb-9de7-84484345be3a",
   "metadata": {},
   "outputs": [
    {
     "data": {
      "text/plain": [
       "'python'"
      ]
     },
     "execution_count": 17,
     "metadata": {},
     "output_type": "execute_result"
    }
   ],
   "source": [
    "var"
   ]
  },
  {
   "cell_type": "code",
   "execution_count": 18,
   "id": "fb5a492f-0baa-4b16-a5bb-07025dc92a41",
   "metadata": {},
   "outputs": [
    {
     "ename": "SyntaxError",
     "evalue": "invalid syntax (1637403566.py, line 1)",
     "output_type": "error",
     "traceback": [
      "\u001b[1;36m  Cell \u001b[1;32mIn[18], line 1\u001b[1;36m\u001b[0m\n\u001b[1;33m    first name = \"amit\"\u001b[0m\n\u001b[1;37m          ^\u001b[0m\n\u001b[1;31mSyntaxError\u001b[0m\u001b[1;31m:\u001b[0m invalid syntax\n"
     ]
    }
   ],
   "source": [
    "first name = \"amit\""
   ]
  },
  {
   "cell_type": "code",
   "execution_count": 19,
   "id": "287eae52-a039-4d91-9532-00eeaa0e9108",
   "metadata": {},
   "outputs": [],
   "source": [
    "first_name = \"amit\""
   ]
  },
  {
   "cell_type": "code",
   "execution_count": 7,
   "id": "c9e15573-ea00-45b8-a646-21e6ab0f7e5f",
   "metadata": {},
   "outputs": [
    {
     "data": {
      "text/plain": [
       "'amit'"
      ]
     },
     "execution_count": 7,
     "metadata": {},
     "output_type": "execute_result"
    }
   ],
   "source": [
    "first_name"
   ]
  },
  {
   "cell_type": "code",
   "execution_count": 20,
   "id": "4923060c-45b6-42c5-9454-acfa4d70eab3",
   "metadata": {},
   "outputs": [
    {
     "ename": "SyntaxError",
     "evalue": "invalid decimal literal (3928191300.py, line 1)",
     "output_type": "error",
     "traceback": [
      "\u001b[1;36m  Cell \u001b[1;32mIn[20], line 1\u001b[1;36m\u001b[0m\n\u001b[1;33m    1name = \"amit\"\u001b[0m\n\u001b[1;37m    ^\u001b[0m\n\u001b[1;31mSyntaxError\u001b[0m\u001b[1;31m:\u001b[0m invalid decimal literal\n"
     ]
    }
   ],
   "source": [
    "1name = \"amit\""
   ]
  },
  {
   "cell_type": "code",
   "execution_count": 21,
   "id": "c43cc81a-0d0c-412b-941e-c8330dbbdabd",
   "metadata": {},
   "outputs": [],
   "source": [
    "name1 = \"amit\""
   ]
  },
  {
   "cell_type": "code",
   "execution_count": 22,
   "id": "0be64a60-5b5e-4e37-9636-79be03b505de",
   "metadata": {},
   "outputs": [
    {
     "data": {
      "text/plain": [
       "'amit'"
      ]
     },
     "execution_count": 22,
     "metadata": {},
     "output_type": "execute_result"
    }
   ],
   "source": [
    "name1"
   ]
  },
  {
   "cell_type": "code",
   "execution_count": 23,
   "id": "8fa506a7-fc40-44fb-8fe6-0fbbb6f79df0",
   "metadata": {},
   "outputs": [
    {
     "ename": "SyntaxError",
     "evalue": "invalid syntax (1373631937.py, line 1)",
     "output_type": "error",
     "traceback": [
      "\u001b[1;36m  Cell \u001b[1;32mIn[23], line 1\u001b[1;36m\u001b[0m\n\u001b[1;33m    $name = \"amit\"\u001b[0m\n\u001b[1;37m    ^\u001b[0m\n\u001b[1;31mSyntaxError\u001b[0m\u001b[1;31m:\u001b[0m invalid syntax\n"
     ]
    }
   ],
   "source": [
    "$name = \"amit\""
   ]
  },
  {
   "cell_type": "code",
   "execution_count": 14,
   "id": "5b76f48f-6dc0-4c1d-b2bc-cde95d1e80e6",
   "metadata": {},
   "outputs": [
    {
     "ename": "SyntaxError",
     "evalue": "invalid syntax (2141282049.py, line 1)",
     "output_type": "error",
     "traceback": [
      "\u001b[1;36m  Cell \u001b[1;32mIn[14], line 1\u001b[1;36m\u001b[0m\n\u001b[1;33m    name$ = \"amit\"\u001b[0m\n\u001b[1;37m        ^\u001b[0m\n\u001b[1;31mSyntaxError\u001b[0m\u001b[1;31m:\u001b[0m invalid syntax\n"
     ]
    }
   ],
   "source": [
    "name$ = \"amit\""
   ]
  },
  {
   "cell_type": "code",
   "execution_count": 15,
   "id": "9bd9e0f0-b3cc-4521-be8f-ab842eef7eaf",
   "metadata": {},
   "outputs": [],
   "source": [
    "name_ = \"amit\""
   ]
  },
  {
   "cell_type": "code",
   "execution_count": 32,
   "id": "f238c672-a366-4f74-8fc0-6b540ee423b4",
   "metadata": {},
   "outputs": [
    {
     "ename": "SyntaxError",
     "evalue": "cannot assign to literal here. Maybe you meant '==' instead of '='? (3276501878.py, line 1)",
     "output_type": "error",
     "traceback": [
      "\u001b[1;36m  Cell \u001b[1;32mIn[32], line 1\u001b[1;36m\u001b[0m\n\u001b[1;33m    \"amit\" = var\u001b[0m\n\u001b[1;37m    ^\u001b[0m\n\u001b[1;31mSyntaxError\u001b[0m\u001b[1;31m:\u001b[0m cannot assign to literal here. Maybe you meant '==' instead of '='?\n"
     ]
    }
   ],
   "source": [
    "\"amit\" = var"
   ]
  },
  {
   "cell_type": "code",
   "execution_count": 24,
   "id": "e94ccc84-7142-4c46-bb29-00ff0a917eef",
   "metadata": {},
   "outputs": [],
   "source": [
    "_ = 345"
   ]
  },
  {
   "cell_type": "code",
   "execution_count": 25,
   "id": "2b3f5e44-b7b4-442b-8681-637c1d25fcf6",
   "metadata": {},
   "outputs": [
    {
     "data": {
      "text/plain": [
       "345"
      ]
     },
     "execution_count": 25,
     "metadata": {},
     "output_type": "execute_result"
    }
   ],
   "source": [
    "_"
   ]
  },
  {
   "cell_type": "code",
   "execution_count": 31,
   "id": "5099c5bb-e4bd-4772-9c73-d930a7d3b968",
   "metadata": {},
   "outputs": [],
   "source": [
    "a, b, c = 10, 20, 30"
   ]
  },
  {
   "cell_type": "code",
   "execution_count": 27,
   "id": "b1960bb1-a592-4b47-aefb-349ca000a416",
   "metadata": {},
   "outputs": [
    {
     "data": {
      "text/plain": [
       "10"
      ]
     },
     "execution_count": 27,
     "metadata": {},
     "output_type": "execute_result"
    }
   ],
   "source": [
    "a"
   ]
  },
  {
   "cell_type": "code",
   "execution_count": 28,
   "id": "09814e1e-f27c-42c9-87f8-80171124f566",
   "metadata": {},
   "outputs": [
    {
     "data": {
      "text/plain": [
       "20"
      ]
     },
     "execution_count": 28,
     "metadata": {},
     "output_type": "execute_result"
    }
   ],
   "source": [
    "b"
   ]
  },
  {
   "cell_type": "code",
   "execution_count": 29,
   "id": "f13c48e2-f221-4f3b-92c3-8de83177d4e9",
   "metadata": {},
   "outputs": [
    {
     "data": {
      "text/plain": [
       "30"
      ]
     },
     "execution_count": 29,
     "metadata": {},
     "output_type": "execute_result"
    }
   ],
   "source": [
    "c"
   ]
  },
  {
   "cell_type": "code",
   "execution_count": 22,
   "id": "f7d5a1ac-79fa-4c3e-b899-f5aeb0bd00bf",
   "metadata": {},
   "outputs": [],
   "source": [
    "x,y,z = [100, 200, 300]"
   ]
  },
  {
   "cell_type": "code",
   "execution_count": 23,
   "id": "19bfd4b1-d6d9-49f1-bdf6-af2f705c65f3",
   "metadata": {},
   "outputs": [
    {
     "data": {
      "text/plain": [
       "100"
      ]
     },
     "execution_count": 23,
     "metadata": {},
     "output_type": "execute_result"
    }
   ],
   "source": [
    "x"
   ]
  },
  {
   "cell_type": "code",
   "execution_count": 24,
   "id": "1759bf44-4e25-4dc4-bfe0-0c3f300ac32a",
   "metadata": {},
   "outputs": [
    {
     "data": {
      "text/plain": [
       "200"
      ]
     },
     "execution_count": 24,
     "metadata": {},
     "output_type": "execute_result"
    }
   ],
   "source": [
    "y"
   ]
  },
  {
   "cell_type": "code",
   "execution_count": 25,
   "id": "b72ffe8a-e1e6-4c2d-8c13-6f94d51f0b19",
   "metadata": {},
   "outputs": [
    {
     "data": {
      "text/plain": [
       "300"
      ]
     },
     "execution_count": 25,
     "metadata": {},
     "output_type": "execute_result"
    }
   ],
   "source": [
    "z"
   ]
  },
  {
   "cell_type": "code",
   "execution_count": 33,
   "id": "f72cd16c-15bd-4f88-8799-7d4c803b4f79",
   "metadata": {},
   "outputs": [
    {
     "data": {
      "text/plain": [
       "10"
      ]
     },
     "execution_count": 33,
     "metadata": {},
     "output_type": "execute_result"
    }
   ],
   "source": [
    "a"
   ]
  },
  {
   "cell_type": "code",
   "execution_count": 34,
   "id": "a0ccd60d-fe29-4c2c-81e6-6826fbdb3945",
   "metadata": {},
   "outputs": [],
   "source": [
    "a = 100"
   ]
  },
  {
   "cell_type": "code",
   "execution_count": 35,
   "id": "719322a5-6fda-442e-9810-fad41d7561c4",
   "metadata": {},
   "outputs": [
    {
     "data": {
      "text/plain": [
       "100"
      ]
     },
     "execution_count": 35,
     "metadata": {},
     "output_type": "execute_result"
    }
   ],
   "source": [
    "a"
   ]
  },
  {
   "cell_type": "code",
   "execution_count": 36,
   "id": "934d1936-7c04-4a43-9e4d-53d26fbe7eb2",
   "metadata": {},
   "outputs": [],
   "source": [
    "a = 10"
   ]
  },
  {
   "cell_type": "code",
   "execution_count": 38,
   "id": "789f3819-8647-43c2-bbf0-5726bf3cbf13",
   "metadata": {},
   "outputs": [
    {
     "ename": "NameError",
     "evalue": "name 'A' is not defined",
     "output_type": "error",
     "traceback": [
      "\u001b[1;31m---------------------------------------------------------------------------\u001b[0m",
      "\u001b[1;31mNameError\u001b[0m                                 Traceback (most recent call last)",
      "Cell \u001b[1;32mIn[38], line 1\u001b[0m\n\u001b[1;32m----> 1\u001b[0m A\n",
      "\u001b[1;31mNameError\u001b[0m: name 'A' is not defined"
     ]
    }
   ],
   "source": [
    "A"
   ]
  },
  {
   "cell_type": "code",
   "execution_count": null,
   "id": "1bf9c37d-abc1-4f16-aa39-10d9dab81748",
   "metadata": {},
   "outputs": [],
   "source": []
  },
  {
   "cell_type": "markdown",
   "id": "1f7bd99a-ff5d-44ce-b29a-91ae1be78a41",
   "metadata": {},
   "source": [
    "### operators"
   ]
  },
  {
   "cell_type": "raw",
   "id": "b26480b8-c212-440d-abcd-dca367c9dc2f",
   "metadata": {},
   "source": [
    "arithmetic\n",
    "comparision\n",
    "logical\n",
    "assignment"
   ]
  },
  {
   "cell_type": "markdown",
   "id": "2ea84e63-d96f-44a2-afd2-83879e55b0a1",
   "metadata": {},
   "source": [
    "### arithmetic"
   ]
  },
  {
   "cell_type": "code",
   "execution_count": null,
   "id": "7856a6c4-bba1-4747-a017-ddc209618f88",
   "metadata": {},
   "outputs": [],
   "source": [
    "+   = add\n",
    "-   = sub\n",
    "*   = multi\n",
    "/   = div\n",
    "%   = modulo\n",
    "//  = floor div\n",
    "**  = power"
   ]
  },
  {
   "cell_type": "code",
   "execution_count": 31,
   "id": "c6c22ebc-c591-475e-a767-1af5a77a921e",
   "metadata": {},
   "outputs": [
    {
     "data": {
      "text/plain": [
       "10"
      ]
     },
     "execution_count": 31,
     "metadata": {},
     "output_type": "execute_result"
    }
   ],
   "source": [
    "a"
   ]
  },
  {
   "cell_type": "code",
   "execution_count": 32,
   "id": "33c4e38b-d4c4-4380-98c9-255b0ac51341",
   "metadata": {},
   "outputs": [
    {
     "data": {
      "text/plain": [
       "20"
      ]
     },
     "execution_count": 32,
     "metadata": {},
     "output_type": "execute_result"
    }
   ],
   "source": [
    "b"
   ]
  },
  {
   "cell_type": "code",
   "execution_count": 33,
   "id": "e266fdca-7c06-4667-ad4e-e44e281e9a65",
   "metadata": {},
   "outputs": [
    {
     "data": {
      "text/plain": [
       "30"
      ]
     },
     "execution_count": 33,
     "metadata": {},
     "output_type": "execute_result"
    }
   ],
   "source": [
    "a+b"
   ]
  },
  {
   "cell_type": "code",
   "execution_count": 34,
   "id": "e9f54e04-4dab-43de-a1bf-994a4a40fdd4",
   "metadata": {},
   "outputs": [
    {
     "data": {
      "text/plain": [
       "10"
      ]
     },
     "execution_count": 34,
     "metadata": {},
     "output_type": "execute_result"
    }
   ],
   "source": [
    "b-a"
   ]
  },
  {
   "cell_type": "code",
   "execution_count": 35,
   "id": "e6ea6992-69b5-46b7-8223-ec11779e56f9",
   "metadata": {},
   "outputs": [
    {
     "data": {
      "text/plain": [
       "200"
      ]
     },
     "execution_count": 35,
     "metadata": {},
     "output_type": "execute_result"
    }
   ],
   "source": [
    "a*b"
   ]
  },
  {
   "cell_type": "code",
   "execution_count": 36,
   "id": "3c478a5f-32b6-4adc-861e-961ec174fbc1",
   "metadata": {},
   "outputs": [
    {
     "data": {
      "text/plain": [
       "0.5"
      ]
     },
     "execution_count": 36,
     "metadata": {},
     "output_type": "execute_result"
    }
   ],
   "source": [
    "a/b"
   ]
  },
  {
   "cell_type": "code",
   "execution_count": 39,
   "id": "494d0376-aacf-4228-a3e9-d72ec8192030",
   "metadata": {},
   "outputs": [
    {
     "data": {
      "text/plain": [
       "20"
      ]
     },
     "execution_count": 39,
     "metadata": {},
     "output_type": "execute_result"
    }
   ],
   "source": [
    "b"
   ]
  },
  {
   "cell_type": "code",
   "execution_count": 41,
   "id": "ddcea9f7-a188-4bf4-b31c-655cfe63b987",
   "metadata": {},
   "outputs": [
    {
     "data": {
      "text/plain": [
       "2"
      ]
     },
     "execution_count": 41,
     "metadata": {},
     "output_type": "execute_result"
    }
   ],
   "source": [
    "b%3"
   ]
  },
  {
   "cell_type": "code",
   "execution_count": 38,
   "id": "0aaa7cd2-cfa7-4695-ae6d-fa5d9188056b",
   "metadata": {},
   "outputs": [
    {
     "data": {
      "text/plain": [
       "10"
      ]
     },
     "execution_count": 38,
     "metadata": {},
     "output_type": "execute_result"
    }
   ],
   "source": [
    "a%b"
   ]
  },
  {
   "cell_type": "code",
   "execution_count": 42,
   "id": "588a307d-0e80-40aa-bb68-a42101bca62f",
   "metadata": {},
   "outputs": [
    {
     "data": {
      "text/plain": [
       "6"
      ]
     },
     "execution_count": 42,
     "metadata": {},
     "output_type": "execute_result"
    }
   ],
   "source": [
    "b//3"
   ]
  },
  {
   "cell_type": "code",
   "execution_count": 40,
   "id": "bf6d3bab-142c-4cb2-8c92-e14175fc5470",
   "metadata": {},
   "outputs": [
    {
     "data": {
      "text/plain": [
       "0"
      ]
     },
     "execution_count": 40,
     "metadata": {},
     "output_type": "execute_result"
    }
   ],
   "source": [
    "10//20"
   ]
  },
  {
   "cell_type": "code",
   "execution_count": 41,
   "id": "e3988b58-757c-4be2-9be7-3651a13f5622",
   "metadata": {},
   "outputs": [
    {
     "data": {
      "text/plain": [
       "1"
      ]
     },
     "execution_count": 41,
     "metadata": {},
     "output_type": "execute_result"
    }
   ],
   "source": [
    "10//8"
   ]
  },
  {
   "cell_type": "code",
   "execution_count": 42,
   "id": "427cde98-f864-4db2-887e-31b434250623",
   "metadata": {},
   "outputs": [
    {
     "data": {
      "text/plain": [
       "2"
      ]
     },
     "execution_count": 42,
     "metadata": {},
     "output_type": "execute_result"
    }
   ],
   "source": [
    "10%8"
   ]
  },
  {
   "cell_type": "code",
   "execution_count": 43,
   "id": "15122e42-f9d1-4978-91ea-4a6c9480d5db",
   "metadata": {},
   "outputs": [
    {
     "data": {
      "text/plain": [
       "100"
      ]
     },
     "execution_count": 43,
     "metadata": {},
     "output_type": "execute_result"
    }
   ],
   "source": [
    "10**2"
   ]
  },
  {
   "cell_type": "code",
   "execution_count": 44,
   "id": "ca2270f3-3196-48e6-b776-46cfde9ab692",
   "metadata": {},
   "outputs": [
    {
     "data": {
      "text/plain": [
       "32"
      ]
     },
     "execution_count": 44,
     "metadata": {},
     "output_type": "execute_result"
    }
   ],
   "source": [
    "2**5"
   ]
  },
  {
   "cell_type": "markdown",
   "id": "022e912c-b2d6-4799-ac32-f64e319aa50c",
   "metadata": {},
   "source": [
    "### comparision"
   ]
  },
  {
   "cell_type": "code",
   "execution_count": null,
   "id": "e8c47a49-dac8-4266-98dd-b1cd97b94dad",
   "metadata": {},
   "outputs": [],
   "source": [
    "> = greter then\n",
    "< = less then\n",
    "== = equal to\n",
    ">= = greten than equal to\n",
    "<= = less then equal to\n",
    "!= = not equal to"
   ]
  },
  {
   "cell_type": "code",
   "execution_count": 46,
   "id": "3226df51-7477-43c3-a4ae-15945363baca",
   "metadata": {},
   "outputs": [
    {
     "data": {
      "text/plain": [
       "False"
      ]
     },
     "execution_count": 46,
     "metadata": {},
     "output_type": "execute_result"
    }
   ],
   "source": [
    "10 != 30"
   ]
  },
  {
   "cell_type": "code",
   "execution_count": 47,
   "id": "a6f66663-144c-4302-b52b-7268d9feb72f",
   "metadata": {},
   "outputs": [
    {
     "data": {
      "text/plain": [
       "False"
      ]
     },
     "execution_count": 47,
     "metadata": {},
     "output_type": "execute_result"
    }
   ],
   "source": [
    "100 < 90"
   ]
  },
  {
   "cell_type": "code",
   "execution_count": 48,
   "id": "99e538da-2164-45a5-ba4d-686c3b7b204a",
   "metadata": {},
   "outputs": [
    {
     "data": {
      "text/plain": [
       "True"
      ]
     },
     "execution_count": 48,
     "metadata": {},
     "output_type": "execute_result"
    }
   ],
   "source": [
    "100 > 90"
   ]
  },
  {
   "cell_type": "code",
   "execution_count": 49,
   "id": "4eef3ce7-d3d0-46f3-a493-3422849fe5d5",
   "metadata": {},
   "outputs": [
    {
     "data": {
      "text/plain": [
       "True"
      ]
     },
     "execution_count": 49,
     "metadata": {},
     "output_type": "execute_result"
    }
   ],
   "source": [
    "200 == 200"
   ]
  },
  {
   "cell_type": "code",
   "execution_count": 50,
   "id": "b3923082-dc5f-4ba1-a720-d87f457d7715",
   "metadata": {},
   "outputs": [
    {
     "data": {
      "text/plain": [
       "True"
      ]
     },
     "execution_count": 50,
     "metadata": {},
     "output_type": "execute_result"
    }
   ],
   "source": [
    "200 != 100"
   ]
  },
  {
   "cell_type": "code",
   "execution_count": 53,
   "id": "56ee5e8e-87fc-486c-bcd7-019c20cacc8b",
   "metadata": {},
   "outputs": [
    {
     "data": {
      "text/plain": [
       "False"
      ]
     },
     "execution_count": 53,
     "metadata": {},
     "output_type": "execute_result"
    }
   ],
   "source": [
    "9 >= 10"
   ]
  },
  {
   "cell_type": "markdown",
   "id": "a1d1b3b9-e6aa-41c0-8d64-67bcc71ebd81",
   "metadata": {},
   "source": [
    "### logical "
   ]
  },
  {
   "cell_type": "code",
   "execution_count": null,
   "id": "c618b10f-ca47-4b03-ac0a-0d5ab653aac1",
   "metadata": {},
   "outputs": [],
   "source": [
    "and\n",
    "or\n",
    "not\n",
    "is\n",
    "in"
   ]
  },
  {
   "cell_type": "code",
   "execution_count": 52,
   "id": "fdf7a518-7966-49db-89fa-4c02386a11cd",
   "metadata": {},
   "outputs": [
    {
     "data": {
      "text/plain": [
       "False"
      ]
     },
     "execution_count": 52,
     "metadata": {},
     "output_type": "execute_result"
    }
   ],
   "source": [
    "10 == 20 and 10 > 5 #F or T"
   ]
  },
  {
   "cell_type": "code",
   "execution_count": null,
   "id": "730273b6-8a16-4d53-908c-009e8bfb8623",
   "metadata": {},
   "outputs": [],
   "source": [
    "T and F = F\n",
    "T and T = T\n",
    "F and F = F\n",
    "F and T = F"
   ]
  },
  {
   "cell_type": "code",
   "execution_count": null,
   "id": "985dc393-6745-4fea-90b2-7197238c31e8",
   "metadata": {},
   "outputs": [],
   "source": [
    "T or F = T\n",
    "T or T = T\n",
    "F or F = F\n",
    "F or T = T"
   ]
  },
  {
   "cell_type": "code",
   "execution_count": 54,
   "id": "d0ae871e-5dd1-4f04-924e-6352c2e65743",
   "metadata": {},
   "outputs": [
    {
     "data": {
      "text/plain": [
       "False"
      ]
     },
     "execution_count": 54,
     "metadata": {},
     "output_type": "execute_result"
    }
   ],
   "source": [
    "not(10<20)"
   ]
  },
  {
   "cell_type": "code",
   "execution_count": 56,
   "id": "ca4de70f-abd5-4aaa-b2e6-34c8875678df",
   "metadata": {},
   "outputs": [
    {
     "data": {
      "text/plain": [
       "True"
      ]
     },
     "execution_count": 56,
     "metadata": {},
     "output_type": "execute_result"
    }
   ],
   "source": [
    "10 in [10,2,3,12,5]"
   ]
  },
  {
   "cell_type": "code",
   "execution_count": 57,
   "id": "04369668-8127-4960-8164-ae8d23d77308",
   "metadata": {},
   "outputs": [
    {
     "name": "stderr",
     "output_type": "stream",
     "text": [
      "<>:1: SyntaxWarning: \"is\" with a literal. Did you mean \"==\"?\n",
      "<>:1: SyntaxWarning: \"is\" with a literal. Did you mean \"==\"?\n",
      "C:\\Users\\amitm\\AppData\\Local\\Temp\\ipykernel_15348\\2297060732.py:1: SyntaxWarning: \"is\" with a literal. Did you mean \"==\"?\n",
      "  \"a\" is \"b\"\n"
     ]
    },
    {
     "data": {
      "text/plain": [
       "False"
      ]
     },
     "execution_count": 57,
     "metadata": {},
     "output_type": "execute_result"
    }
   ],
   "source": [
    "\"a\" is \"b\""
   ]
  },
  {
   "cell_type": "code",
   "execution_count": 58,
   "id": "6af2af1b-432c-4f77-b07b-7c841aa6ede3",
   "metadata": {},
   "outputs": [
    {
     "data": {
      "text/plain": [
       "10"
      ]
     },
     "execution_count": 58,
     "metadata": {},
     "output_type": "execute_result"
    }
   ],
   "source": [
    "a"
   ]
  },
  {
   "cell_type": "code",
   "execution_count": 59,
   "id": "2ea01b50-f8d1-42e8-b1d8-ba6ab160a8ef",
   "metadata": {},
   "outputs": [
    {
     "data": {
      "text/plain": [
       "30"
      ]
     },
     "execution_count": 59,
     "metadata": {},
     "output_type": "execute_result"
    }
   ],
   "source": [
    "c"
   ]
  },
  {
   "cell_type": "code",
   "execution_count": 60,
   "id": "c8928067-0cec-42eb-88d7-f8103b023224",
   "metadata": {},
   "outputs": [
    {
     "data": {
      "text/plain": [
       "False"
      ]
     },
     "execution_count": 60,
     "metadata": {},
     "output_type": "execute_result"
    }
   ],
   "source": [
    "a is c"
   ]
  },
  {
   "cell_type": "code",
   "execution_count": 63,
   "id": "5f6f5f08-8d4f-4f1b-964e-80d08cffe9a2",
   "metadata": {},
   "outputs": [
    {
     "data": {
      "text/plain": [
       "True"
      ]
     },
     "execution_count": 63,
     "metadata": {},
     "output_type": "execute_result"
    }
   ],
   "source": [
    "\"4\" in \"345345\""
   ]
  },
  {
   "cell_type": "markdown",
   "id": "50a74558-9fd5-40a7-a483-e92986b73da2",
   "metadata": {},
   "source": [
    "### Assignment "
   ]
  },
  {
   "cell_type": "code",
   "execution_count": null,
   "id": "6cc7b0c3-47e4-4284-8607-b6d09268d8ee",
   "metadata": {},
   "outputs": [],
   "source": [
    "=  "
   ]
  },
  {
   "cell_type": "code",
   "execution_count": 58,
   "id": "b9214bc7-9158-4d28-9f78-1ce84c939ae8",
   "metadata": {},
   "outputs": [],
   "source": [
    "var1 = \"java\""
   ]
  },
  {
   "cell_type": "code",
   "execution_count": 59,
   "id": "f65a1d40-c4e7-4b31-bbce-72423bb2a47a",
   "metadata": {},
   "outputs": [
    {
     "ename": "SyntaxError",
     "evalue": "cannot assign to literal here. Maybe you meant '==' instead of '='? (1555998022.py, line 1)",
     "output_type": "error",
     "traceback": [
      "\u001b[1;36m  Cell \u001b[1;32mIn[59], line 1\u001b[1;36m\u001b[0m\n\u001b[1;33m    \"c++\" = var2\u001b[0m\n\u001b[1;37m    ^\u001b[0m\n\u001b[1;31mSyntaxError\u001b[0m\u001b[1;31m:\u001b[0m cannot assign to literal here. Maybe you meant '==' instead of '='?\n"
     ]
    }
   ],
   "source": [
    "\"c++\" = var2"
   ]
  },
  {
   "cell_type": "code",
   "execution_count": 61,
   "id": "ed11a765-1003-4aba-8de3-b9ea9e9ecb0d",
   "metadata": {},
   "outputs": [
    {
     "data": {
      "text/plain": [
       "False"
      ]
     },
     "execution_count": 61,
     "metadata": {},
     "output_type": "execute_result"
    }
   ],
   "source": [
    "10 > 20 *2"
   ]
  },
  {
   "cell_type": "code",
   "execution_count": null,
   "id": "fe9d0002-361a-46e9-be74-761f86cc3e05",
   "metadata": {},
   "outputs": [],
   "source": [
    "BODMAS\n",
    "B\n",
    "O\n",
    "D\n",
    "M\n",
    "A\n",
    "S"
   ]
  },
  {
   "cell_type": "code",
   "execution_count": 64,
   "id": "02e1472d-485f-4a41-af45-cfbb1e45fd31",
   "metadata": {},
   "outputs": [
    {
     "data": {
      "text/plain": [
       "3972.8571428571427"
      ]
     },
     "execution_count": 64,
     "metadata": {},
     "output_type": "execute_result"
    }
   ],
   "source": [
    "10*(20**2-40/56)-20"
   ]
  },
  {
   "cell_type": "code",
   "execution_count": null,
   "id": "9ad89c00-50bd-4c8d-89ae-efa11a55a32b",
   "metadata": {},
   "outputs": [],
   "source": []
  },
  {
   "cell_type": "code",
   "execution_count": 1,
   "id": "041c8791-717e-4a0c-954c-2200424c7647",
   "metadata": {},
   "outputs": [
    {
     "name": "stdout",
     "output_type": "stream",
     "text": [
      "hello\n"
     ]
    }
   ],
   "source": [
    "print(\"hello\")"
   ]
  },
  {
   "cell_type": "code",
   "execution_count": null,
   "id": "c619f99b-5f6f-47b0-8f07-ecbaa2fb7498",
   "metadata": {},
   "outputs": [],
   "source": []
  }
 ],
 "metadata": {
  "kernelspec": {
   "display_name": "Python 3 (ipykernel)",
   "language": "python",
   "name": "python3"
  },
  "language_info": {
   "codemirror_mode": {
    "name": "ipython",
    "version": 3
   },
   "file_extension": ".py",
   "mimetype": "text/x-python",
   "name": "python",
   "nbconvert_exporter": "python",
   "pygments_lexer": "ipython3",
   "version": "3.11.7"
  }
 },
 "nbformat": 4,
 "nbformat_minor": 5
}
