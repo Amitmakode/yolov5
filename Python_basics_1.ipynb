{
 "cells": [
  {
   "cell_type": "markdown",
   "id": "0670cf9b-585d-4c6c-acba-fdf1691ee2fe",
   "metadata": {},
   "source": [
    "## Datatypes"
   ]
  },
  {
   "cell_type": "raw",
   "id": "3864f94d-530e-4e97-9a65-2f293484b1c3",
   "metadata": {},
   "source": [
    "Iterable\n",
    "Non-iterable"
   ]
  },
  {
   "cell_type": "code",
   "execution_count": null,
   "id": "1300a2fd-e0f6-4216-a7ec-8f6d9b933446",
   "metadata": {},
   "outputs": [],
   "source": [
    "-- non-iterable\n",
    "\n",
    "int = any whole-- 1, 33, 87677, 78\n",
    "\n",
    "float = any number with decimal--  1.5, 6.90, 40.50\n",
    "\n",
    "complex = 31 + 5j,  23x+y = 0\n",
    "\n",
    "bool = True / False  1/0"
   ]
  },
  {
   "cell_type": "code",
   "execution_count": null,
   "id": "fcd72974-c256-4304-945b-818da095a205",
   "metadata": {},
   "outputs": [],
   "source": [
    "-- iterable\n",
    "\n",
    "string = \" \", ' ', \"234%var_\",    \"76576\", '      '\n",
    "\n",
    "list = [], [2, 5.5, 3+5j, True, \"py\", [], (),{}, {}]\n",
    "\n",
    "tuple = (), (2, 5.5, 3+5j, True, \"py\", [], (),{}, {})\n",
    "\n",
    "set = {}, {2, 5.5, 3+5j, True, \"py\", ()}\n",
    "\n",
    "dict = {}, {\"jan\":31, \"feb\":28, \"march\":31}\n"
   ]
  },
  {
   "cell_type": "code",
   "execution_count": 1,
   "id": "b24eaecb-ccf1-4710-80a0-9298b38f1ede",
   "metadata": {},
   "outputs": [],
   "source": [
    "number = 78564655"
   ]
  },
  {
   "cell_type": "code",
   "execution_count": 3,
   "id": "d7cb5833-7916-4abc-9248-c5d1bd29c0c2",
   "metadata": {},
   "outputs": [
    {
     "ename": "TypeError",
     "evalue": "'int' object is not subscriptable",
     "output_type": "error",
     "traceback": [
      "\u001b[1;31m---------------------------------------------------------------------------\u001b[0m",
      "\u001b[1;31mTypeError\u001b[0m                                 Traceback (most recent call last)",
      "Cell \u001b[1;32mIn[3], line 1\u001b[0m\n\u001b[1;32m----> 1\u001b[0m number[\u001b[38;5;241m1\u001b[39m]\n",
      "\u001b[1;31mTypeError\u001b[0m: 'int' object is not subscriptable"
     ]
    }
   ],
   "source": [
    "number[1]"
   ]
  },
  {
   "cell_type": "code",
   "execution_count": 7,
   "id": "fd04e2fb-a59a-4158-af23-bb455f33f2b5",
   "metadata": {},
   "outputs": [],
   "source": [
    "var = \"python\""
   ]
  },
  {
   "cell_type": "code",
   "execution_count": 6,
   "id": "2a7012ae-1c15-4be4-9cd1-af0120acada1",
   "metadata": {},
   "outputs": [
    {
     "data": {
      "text/plain": [
       "'t'"
      ]
     },
     "execution_count": 6,
     "metadata": {},
     "output_type": "execute_result"
    }
   ],
   "source": [
    "var[2]"
   ]
  },
  {
   "cell_type": "code",
   "execution_count": 7,
   "id": "e49871e9-34e5-440b-ab4e-2b08b38ea54a",
   "metadata": {},
   "outputs": [
    {
     "data": {
      "text/plain": [
       "'p'"
      ]
     },
     "execution_count": 7,
     "metadata": {},
     "output_type": "execute_result"
    }
   ],
   "source": [
    "var[0]"
   ]
  },
  {
   "cell_type": "code",
   "execution_count": 8,
   "id": "46167522-0bf0-48ed-9893-7b075137c98c",
   "metadata": {},
   "outputs": [
    {
     "data": {
      "text/plain": [
       "'o'"
      ]
     },
     "execution_count": 8,
     "metadata": {},
     "output_type": "execute_result"
    }
   ],
   "source": [
    "var[4]"
   ]
  },
  {
   "cell_type": "code",
   "execution_count": 35,
   "id": "2e62bb0b-ea84-4c15-abaf-c6eec435686f",
   "metadata": {},
   "outputs": [],
   "source": [
    "int = 3453"
   ]
  },
  {
   "cell_type": "code",
   "execution_count": 36,
   "id": "47a63562-396e-4b66-9f5c-8da6e33fbb9a",
   "metadata": {},
   "outputs": [],
   "source": [
    "float = 45.67"
   ]
  },
  {
   "cell_type": "code",
   "execution_count": 37,
   "id": "195424ca-2769-47d3-9776-86f016a65adc",
   "metadata": {},
   "outputs": [],
   "source": [
    "complex = 45 + 7j    #3x+y = z"
   ]
  },
  {
   "cell_type": "code",
   "execution_count": null,
   "id": "9a4b9f4d-31e2-4755-935e-b8c3f3ce681b",
   "metadata": {},
   "outputs": [],
   "source": [
    "bool = True/False  1/0"
   ]
  },
  {
   "cell_type": "code",
   "execution_count": 39,
   "id": "00a914c5-4776-447b-992a-adc0951e1b3d",
   "metadata": {},
   "outputs": [],
   "source": [
    "str = \"#    python\""
   ]
  },
  {
   "cell_type": "code",
   "execution_count": 40,
   "id": "2ab0d97f-75e5-408e-a7a4-b60293a1517a",
   "metadata": {},
   "outputs": [],
   "source": [
    "list = [2,3,4,5,5, True]"
   ]
  },
  {
   "cell_type": "code",
   "execution_count": 44,
   "id": "6fe73ee2-6df1-489e-b172-fc31b18587bf",
   "metadata": {},
   "outputs": [
    {
     "data": {
      "text/plain": [
       "[2, 3, 4, 5, 5, True]"
      ]
     },
     "execution_count": 44,
     "metadata": {},
     "output_type": "execute_result"
    }
   ],
   "source": [
    "list"
   ]
  },
  {
   "cell_type": "code",
   "execution_count": 51,
   "id": "72267f93-b0f6-44cd-bfdf-8e42c56d5db3",
   "metadata": {},
   "outputs": [],
   "source": [
    "tuple = (2,3,4,5,5, True)"
   ]
  },
  {
   "cell_type": "code",
   "execution_count": 45,
   "id": "64fc8a6a-5f40-4e05-b666-b14ae7c18737",
   "metadata": {},
   "outputs": [
    {
     "data": {
      "text/plain": [
       "(2, 3, 4, 5, 5, True)"
      ]
     },
     "execution_count": 45,
     "metadata": {},
     "output_type": "execute_result"
    }
   ],
   "source": [
    "tuple"
   ]
  },
  {
   "cell_type": "code",
   "execution_count": 46,
   "id": "9700be3c-df68-4b72-8115-93ffcd88b5f8",
   "metadata": {},
   "outputs": [],
   "source": [
    "set = {1,2,3,4,1,2,3}"
   ]
  },
  {
   "cell_type": "code",
   "execution_count": 47,
   "id": "b523e8b0-2f36-40d4-a9af-f56c2acae9ce",
   "metadata": {},
   "outputs": [
    {
     "data": {
      "text/plain": [
       "{1, 2, 3, 4}"
      ]
     },
     "execution_count": 47,
     "metadata": {},
     "output_type": "execute_result"
    }
   ],
   "source": [
    "set"
   ]
  },
  {
   "cell_type": "code",
   "execution_count": 48,
   "id": "5d1486ec-cac5-4686-860f-037177ac25a6",
   "metadata": {},
   "outputs": [],
   "source": [
    "Dict = {\"jan\":31, \"feb\":28}"
   ]
  },
  {
   "cell_type": "code",
   "execution_count": 49,
   "id": "296e94de-971a-4fcb-96a2-8ee681810c39",
   "metadata": {},
   "outputs": [
    {
     "data": {
      "text/plain": [
       "{'jan': 31, 'feb': 28}"
      ]
     },
     "execution_count": 49,
     "metadata": {},
     "output_type": "execute_result"
    }
   ],
   "source": [
    "Dict"
   ]
  },
  {
   "cell_type": "markdown",
   "id": "597abcbf-85e1-4898-ac25-345fe94c2040",
   "metadata": {},
   "source": [
    "## variables"
   ]
  },
  {
   "cell_type": "code",
   "execution_count": 1,
   "id": "c35df03c-ba5a-49d3-a3b1-6d0cbb552f59",
   "metadata": {},
   "outputs": [],
   "source": [
    "x = 10"
   ]
  },
  {
   "cell_type": "code",
   "execution_count": 2,
   "id": "91b3d51d-c76b-4e7a-9f24-c792fc951069",
   "metadata": {},
   "outputs": [
    {
     "data": {
      "text/plain": [
       "10"
      ]
     },
     "execution_count": 2,
     "metadata": {},
     "output_type": "execute_result"
    }
   ],
   "source": [
    "x"
   ]
  },
  {
   "cell_type": "code",
   "execution_count": 11,
   "id": "1ed43cea-146b-44df-bfbd-2006ec392e6a",
   "metadata": {},
   "outputs": [
    {
     "data": {
      "text/plain": [
       "'python'"
      ]
     },
     "execution_count": 11,
     "metadata": {},
     "output_type": "execute_result"
    }
   ],
   "source": [
    "var "
   ]
  },
  {
   "cell_type": "code",
   "execution_count": 3,
   "id": "7de1c631-03b8-4352-bcfd-661140292d07",
   "metadata": {},
   "outputs": [],
   "source": [
    "name = \"amit\""
   ]
  },
  {
   "cell_type": "code",
   "execution_count": 4,
   "id": "bdbf497f-2df2-4e33-8797-3413cdcddd1f",
   "metadata": {},
   "outputs": [
    {
     "data": {
      "text/plain": [
       "'amit'"
      ]
     },
     "execution_count": 4,
     "metadata": {},
     "output_type": "execute_result"
    }
   ],
   "source": [
    "name"
   ]
  },
  {
   "cell_type": "code",
   "execution_count": 5,
   "id": "a385ce3d-7bc8-4020-bf89-5c2ecb2c4eee",
   "metadata": {},
   "outputs": [
    {
     "data": {
      "text/plain": [
       "int"
      ]
     },
     "execution_count": 5,
     "metadata": {},
     "output_type": "execute_result"
    }
   ],
   "source": [
    "type(x)"
   ]
  },
  {
   "cell_type": "code",
   "execution_count": 8,
   "id": "f84fdd5c-7ec4-445f-a6e4-4b9d37c37039",
   "metadata": {},
   "outputs": [
    {
     "data": {
      "text/plain": [
       "str"
      ]
     },
     "execution_count": 8,
     "metadata": {},
     "output_type": "execute_result"
    }
   ],
   "source": [
    "type(name)"
   ]
  },
  {
   "cell_type": "code",
   "execution_count": 9,
   "id": "0b9bb13b-7868-4211-9db2-a9c88f19a791",
   "metadata": {},
   "outputs": [
    {
     "ename": "SyntaxError",
     "evalue": "invalid syntax (1637403566.py, line 1)",
     "output_type": "error",
     "traceback": [
      "\u001b[1;36m  Cell \u001b[1;32mIn[9], line 1\u001b[1;36m\u001b[0m\n\u001b[1;33m    first name = \"amit\"\u001b[0m\n\u001b[1;37m          ^\u001b[0m\n\u001b[1;31mSyntaxError\u001b[0m\u001b[1;31m:\u001b[0m invalid syntax\n"
     ]
    }
   ],
   "source": [
    "first name = \"amit\""
   ]
  },
  {
   "cell_type": "code",
   "execution_count": 10,
   "id": "7e9c8df2-4a55-44c7-87a7-00c05e5c313f",
   "metadata": {},
   "outputs": [],
   "source": [
    "firstname = \"amit\""
   ]
  },
  {
   "cell_type": "code",
   "execution_count": 11,
   "id": "52bba631-acbf-47ec-bbf4-65ef5e3c3535",
   "metadata": {},
   "outputs": [],
   "source": [
    "first_name = \"amit\""
   ]
  },
  {
   "cell_type": "code",
   "execution_count": 12,
   "id": "bba68f95-3785-4a6a-a6c5-1633f3f5515b",
   "metadata": {},
   "outputs": [
    {
     "ename": "SyntaxError",
     "evalue": "invalid decimal literal (3928191300.py, line 1)",
     "output_type": "error",
     "traceback": [
      "\u001b[1;36m  Cell \u001b[1;32mIn[12], line 1\u001b[1;36m\u001b[0m\n\u001b[1;33m    1name = \"amit\"\u001b[0m\n\u001b[1;37m    ^\u001b[0m\n\u001b[1;31mSyntaxError\u001b[0m\u001b[1;31m:\u001b[0m invalid decimal literal\n"
     ]
    }
   ],
   "source": [
    "1name = \"amit\""
   ]
  },
  {
   "cell_type": "code",
   "execution_count": 13,
   "id": "fd4888e1-5002-4ca7-8851-5b39e8c01352",
   "metadata": {},
   "outputs": [],
   "source": [
    "name1 = \"amit\""
   ]
  },
  {
   "cell_type": "code",
   "execution_count": 14,
   "id": "e612a63f-6cd8-4cff-93c1-6e9a697635fe",
   "metadata": {},
   "outputs": [
    {
     "ename": "SyntaxError",
     "evalue": "invalid syntax (1373631937.py, line 1)",
     "output_type": "error",
     "traceback": [
      "\u001b[1;36m  Cell \u001b[1;32mIn[14], line 1\u001b[1;36m\u001b[0m\n\u001b[1;33m    $name = \"amit\"\u001b[0m\n\u001b[1;37m    ^\u001b[0m\n\u001b[1;31mSyntaxError\u001b[0m\u001b[1;31m:\u001b[0m invalid syntax\n"
     ]
    }
   ],
   "source": [
    "$name = \"amit\""
   ]
  },
  {
   "cell_type": "code",
   "execution_count": 15,
   "id": "12bb00f9-2bc7-4c97-bb22-35b2d78c5151",
   "metadata": {},
   "outputs": [
    {
     "ename": "SyntaxError",
     "evalue": "invalid syntax (2141282049.py, line 1)",
     "output_type": "error",
     "traceback": [
      "\u001b[1;36m  Cell \u001b[1;32mIn[15], line 1\u001b[1;36m\u001b[0m\n\u001b[1;33m    name$ = \"amit\"\u001b[0m\n\u001b[1;37m        ^\u001b[0m\n\u001b[1;31mSyntaxError\u001b[0m\u001b[1;31m:\u001b[0m invalid syntax\n"
     ]
    }
   ],
   "source": [
    "name$ = \"amit\""
   ]
  },
  {
   "cell_type": "code",
   "execution_count": 16,
   "id": "b41a3db9-aa55-4e14-a080-d7613b269ace",
   "metadata": {},
   "outputs": [],
   "source": [
    "name_ = \"amit\""
   ]
  },
  {
   "cell_type": "code",
   "execution_count": 17,
   "id": "82df70ff-8d77-40b1-ba18-1c2077604e6c",
   "metadata": {},
   "outputs": [],
   "source": [
    "_ = 55"
   ]
  },
  {
   "cell_type": "code",
   "execution_count": 18,
   "id": "8338b0e1-769e-4225-9f9e-1d7dede9b22f",
   "metadata": {},
   "outputs": [
    {
     "data": {
      "text/plain": [
       "55"
      ]
     },
     "execution_count": 18,
     "metadata": {},
     "output_type": "execute_result"
    }
   ],
   "source": [
    "_"
   ]
  },
  {
   "cell_type": "code",
   "execution_count": 19,
   "id": "40283107-ae4c-48de-b3dc-a75a468a9ca0",
   "metadata": {},
   "outputs": [],
   "source": [
    "a, b, c = 10, 20, 30"
   ]
  },
  {
   "cell_type": "code",
   "execution_count": 20,
   "id": "0359b15b-504a-40e9-b2b9-095461e1b449",
   "metadata": {},
   "outputs": [
    {
     "data": {
      "text/plain": [
       "10"
      ]
     },
     "execution_count": 20,
     "metadata": {},
     "output_type": "execute_result"
    }
   ],
   "source": [
    "a"
   ]
  },
  {
   "cell_type": "code",
   "execution_count": 21,
   "id": "49ff329f-6502-4a70-aeb7-a1ba19f95cc9",
   "metadata": {},
   "outputs": [
    {
     "data": {
      "text/plain": [
       "20"
      ]
     },
     "execution_count": 21,
     "metadata": {},
     "output_type": "execute_result"
    }
   ],
   "source": [
    "b"
   ]
  },
  {
   "cell_type": "code",
   "execution_count": 22,
   "id": "2c33bc6d-3c90-4e43-9ee8-c097e6094707",
   "metadata": {},
   "outputs": [
    {
     "data": {
      "text/plain": [
       "30"
      ]
     },
     "execution_count": 22,
     "metadata": {},
     "output_type": "execute_result"
    }
   ],
   "source": [
    "c"
   ]
  },
  {
   "cell_type": "markdown",
   "id": "85d23b96-a4e1-476e-a088-0856693dc086",
   "metadata": {},
   "source": [
    "### assignment operator ="
   ]
  },
  {
   "cell_type": "code",
   "execution_count": null,
   "id": "f98f0453-4a41-4379-9dab-e63900093ea6",
   "metadata": {},
   "outputs": [],
   "source": [
    "#assignment operator ="
   ]
  },
  {
   "cell_type": "markdown",
   "id": "52cca0ec-47c7-4025-9549-4ab53b0e7cba",
   "metadata": {},
   "source": [
    "## Operators"
   ]
  },
  {
   "cell_type": "markdown",
   "id": "af3466fe-750e-4df7-8ce9-9d6244f65afa",
   "metadata": {},
   "source": [
    "### arithmetic"
   ]
  },
  {
   "cell_type": "code",
   "execution_count": null,
   "id": "ded7137b-81bb-4ff8-9212-947d588dca66",
   "metadata": {},
   "outputs": [],
   "source": [
    "+  = add\n",
    "-  =  sub\n",
    "*  = multi\n",
    "/  = div\n",
    "%  = modulo\n",
    "// = floor div\n",
    "** = power"
   ]
  },
  {
   "cell_type": "code",
   "execution_count": 33,
   "id": "77053dd2-d2a5-4d6f-8987-2e98c9229d4a",
   "metadata": {},
   "outputs": [],
   "source": [
    "number = 8767587.4354"
   ]
  },
  {
   "cell_type": "code",
   "execution_count": 34,
   "id": "058186fb-2054-4074-a9b5-7e96cd8ca040",
   "metadata": {},
   "outputs": [
    {
     "data": {
      "text/plain": [
       "8767587.4354"
      ]
     },
     "execution_count": 34,
     "metadata": {},
     "output_type": "execute_result"
    }
   ],
   "source": [
    "number"
   ]
  },
  {
   "cell_type": "code",
   "execution_count": 31,
   "id": "b0569e73-f602-4839-a722-9d69a96e8cd0",
   "metadata": {},
   "outputs": [
    {
     "data": {
      "text/plain": [
       "(10, 20, 30)"
      ]
     },
     "execution_count": 31,
     "metadata": {},
     "output_type": "execute_result"
    }
   ],
   "source": [
    "a, b, c"
   ]
  },
  {
   "cell_type": "code",
   "execution_count": 23,
   "id": "7fc9101f-925f-4ac8-b305-0812ec336fc1",
   "metadata": {},
   "outputs": [
    {
     "data": {
      "text/plain": [
       "35"
      ]
     },
     "execution_count": 23,
     "metadata": {},
     "output_type": "execute_result"
    }
   ],
   "source": [
    "30+5"
   ]
  },
  {
   "cell_type": "code",
   "execution_count": 24,
   "id": "a745717c-1c8f-4be1-9547-26d68855ba00",
   "metadata": {},
   "outputs": [
    {
     "data": {
      "text/plain": [
       "5"
      ]
     },
     "execution_count": 24,
     "metadata": {},
     "output_type": "execute_result"
    }
   ],
   "source": [
    "10-5"
   ]
  },
  {
   "cell_type": "code",
   "execution_count": 25,
   "id": "15fda2d5-bd34-4959-9a9d-75bba1d2069a",
   "metadata": {},
   "outputs": [
    {
     "data": {
      "text/plain": [
       "8"
      ]
     },
     "execution_count": 25,
     "metadata": {},
     "output_type": "execute_result"
    }
   ],
   "source": [
    "2*4"
   ]
  },
  {
   "cell_type": "code",
   "execution_count": 26,
   "id": "5935e2e5-dc60-4b4d-974a-7958757185c8",
   "metadata": {},
   "outputs": [
    {
     "data": {
      "text/plain": [
       "1.3333333333333333"
      ]
     },
     "execution_count": 26,
     "metadata": {},
     "output_type": "execute_result"
    }
   ],
   "source": [
    "4/3"
   ]
  },
  {
   "cell_type": "code",
   "execution_count": 27,
   "id": "dcfd690a-b047-41e3-b639-e03871286c06",
   "metadata": {},
   "outputs": [
    {
     "data": {
      "text/plain": [
       "1"
      ]
     },
     "execution_count": 27,
     "metadata": {},
     "output_type": "execute_result"
    }
   ],
   "source": [
    "4%3"
   ]
  },
  {
   "cell_type": "code",
   "execution_count": 28,
   "id": "7c38ed8e-a3d2-420e-a0b8-3beb1d6a0aa8",
   "metadata": {},
   "outputs": [
    {
     "data": {
      "text/plain": [
       "1"
      ]
     },
     "execution_count": 28,
     "metadata": {},
     "output_type": "execute_result"
    }
   ],
   "source": [
    "4//3"
   ]
  },
  {
   "cell_type": "code",
   "execution_count": 29,
   "id": "d7b583df-b786-4273-855d-979930a7631d",
   "metadata": {},
   "outputs": [
    {
     "data": {
      "text/plain": [
       "16"
      ]
     },
     "execution_count": 29,
     "metadata": {},
     "output_type": "execute_result"
    }
   ],
   "source": [
    "4**2"
   ]
  },
  {
   "cell_type": "code",
   "execution_count": 30,
   "id": "924dcc4d-7c0c-457a-ae3d-8d1c18a958c6",
   "metadata": {},
   "outputs": [
    {
     "data": {
      "text/plain": [
       "27"
      ]
     },
     "execution_count": 30,
     "metadata": {},
     "output_type": "execute_result"
    }
   ],
   "source": [
    "3**3"
   ]
  },
  {
   "cell_type": "code",
   "execution_count": 52,
   "id": "98fcfb90-486b-4bbe-be7a-4c9535dd1a26",
   "metadata": {},
   "outputs": [],
   "source": [
    "x, y, z = 10, 20,30 "
   ]
  },
  {
   "cell_type": "code",
   "execution_count": 55,
   "id": "20b5eaaf-3292-4f75-993c-fcd5c8a94f49",
   "metadata": {},
   "outputs": [
    {
     "data": {
      "text/plain": [
       "10"
      ]
     },
     "execution_count": 55,
     "metadata": {},
     "output_type": "execute_result"
    }
   ],
   "source": [
    "x"
   ]
  },
  {
   "cell_type": "code",
   "execution_count": 56,
   "id": "495b8f25-962a-468a-97a1-fd6da9ca95f3",
   "metadata": {},
   "outputs": [
    {
     "data": {
      "text/plain": [
       "30"
      ]
     },
     "execution_count": 56,
     "metadata": {},
     "output_type": "execute_result"
    }
   ],
   "source": [
    "z"
   ]
  },
  {
   "cell_type": "code",
   "execution_count": 57,
   "id": "8e9ce306-8d48-4792-a552-e8d1e9bd708d",
   "metadata": {},
   "outputs": [
    {
     "data": {
      "text/plain": [
       "20"
      ]
     },
     "execution_count": 57,
     "metadata": {},
     "output_type": "execute_result"
    }
   ],
   "source": [
    "y"
   ]
  },
  {
   "cell_type": "code",
   "execution_count": 58,
   "id": "de155670-a7d7-4730-804f-7005adb4ddc7",
   "metadata": {},
   "outputs": [
    {
     "data": {
      "text/plain": [
       "30"
      ]
     },
     "execution_count": 58,
     "metadata": {},
     "output_type": "execute_result"
    }
   ],
   "source": [
    "x + y"
   ]
  },
  {
   "cell_type": "code",
   "execution_count": 59,
   "id": "f5d45fe2-b51a-40f9-8689-7c7afb53c30d",
   "metadata": {},
   "outputs": [
    {
     "data": {
      "text/plain": [
       "2.0"
      ]
     },
     "execution_count": 59,
     "metadata": {},
     "output_type": "execute_result"
    }
   ],
   "source": [
    "y/x"
   ]
  },
  {
   "cell_type": "code",
   "execution_count": 60,
   "id": "741004e5-ef69-4b0f-a070-8d08d64a8e3a",
   "metadata": {},
   "outputs": [
    {
     "data": {
      "text/plain": [
       "10"
      ]
     },
     "execution_count": 60,
     "metadata": {},
     "output_type": "execute_result"
    }
   ],
   "source": [
    "z%y"
   ]
  },
  {
   "cell_type": "code",
   "execution_count": 61,
   "id": "c1003080-ddcf-4aa3-bcfb-130b79f75461",
   "metadata": {},
   "outputs": [
    {
     "data": {
      "text/plain": [
       "1000"
      ]
     },
     "execution_count": 61,
     "metadata": {},
     "output_type": "execute_result"
    }
   ],
   "source": [
    "x**3"
   ]
  },
  {
   "cell_type": "code",
   "execution_count": 62,
   "id": "99ae6605-6733-4eb0-a890-86d28f775669",
   "metadata": {},
   "outputs": [],
   "source": [
    "calculation = x + y *z - x**2    #BODMAS"
   ]
  },
  {
   "cell_type": "code",
   "execution_count": 63,
   "id": "fc44ffb1-203b-44a6-87f2-d22ce03877c3",
   "metadata": {},
   "outputs": [
    {
     "data": {
      "text/plain": [
       "510"
      ]
     },
     "execution_count": 63,
     "metadata": {},
     "output_type": "execute_result"
    }
   ],
   "source": [
    "calculation"
   ]
  },
  {
   "cell_type": "code",
   "execution_count": 64,
   "id": "46c2390a-18be-463b-8934-264e75eef08f",
   "metadata": {},
   "outputs": [],
   "source": [
    "cal2 = x**y/z"
   ]
  },
  {
   "cell_type": "code",
   "execution_count": 65,
   "id": "259dda9c-7cda-4964-a614-8853218c895f",
   "metadata": {},
   "outputs": [
    {
     "data": {
      "text/plain": [
       "3.3333333333333335e+18"
      ]
     },
     "execution_count": 65,
     "metadata": {},
     "output_type": "execute_result"
    }
   ],
   "source": [
    "cal2"
   ]
  },
  {
   "cell_type": "code",
   "execution_count": 66,
   "id": "b2f25454-2016-4841-bfbc-b00d59ec06df",
   "metadata": {},
   "outputs": [
    {
     "data": {
      "text/plain": [
       "1.53e-16"
      ]
     },
     "execution_count": 66,
     "metadata": {},
     "output_type": "execute_result"
    }
   ],
   "source": [
    "calculation/cal2"
   ]
  },
  {
   "cell_type": "code",
   "execution_count": null,
   "id": "c40ad918-1b22-4d64-82fb-98dea0ba3fd7",
   "metadata": {},
   "outputs": [],
   "source": []
  },
  {
   "cell_type": "code",
   "execution_count": null,
   "id": "b83fe813-7582-4ba9-b552-a4da7af73cc2",
   "metadata": {},
   "outputs": [],
   "source": []
  },
  {
   "cell_type": "markdown",
   "id": "0b67e593-4120-47a3-aa36-027b5cc8a565",
   "metadata": {},
   "source": [
    "### Comparision operators"
   ]
  },
  {
   "cell_type": "code",
   "execution_count": null,
   "id": "78cf8b3e-cad2-4171-932b-49e3533144fc",
   "metadata": {},
   "outputs": [],
   "source": [
    "== equal to\n",
    "> greater than\n",
    "< less than\n",
    ">= greater than equal to\n",
    "<= less then equal to\n",
    "!= not equal to"
   ]
  },
  {
   "cell_type": "code",
   "execution_count": 67,
   "id": "22be499c-3589-491c-80f4-9b769180d5b1",
   "metadata": {},
   "outputs": [
    {
     "data": {
      "text/plain": [
       "(10, 20, 30)"
      ]
     },
     "execution_count": 67,
     "metadata": {},
     "output_type": "execute_result"
    }
   ],
   "source": [
    "x, y, z"
   ]
  },
  {
   "cell_type": "code",
   "execution_count": 68,
   "id": "0191d6f0-8cf3-4ede-94e4-8854f19504f7",
   "metadata": {},
   "outputs": [
    {
     "data": {
      "text/plain": [
       "True"
      ]
     },
     "execution_count": 68,
     "metadata": {},
     "output_type": "execute_result"
    }
   ],
   "source": [
    "x < y"
   ]
  },
  {
   "cell_type": "code",
   "execution_count": 69,
   "id": "ff8ae6b5-2804-4348-8ba7-db6f8692c915",
   "metadata": {},
   "outputs": [
    {
     "data": {
      "text/plain": [
       "False"
      ]
     },
     "execution_count": 69,
     "metadata": {},
     "output_type": "execute_result"
    }
   ],
   "source": [
    "x > c"
   ]
  },
  {
   "cell_type": "code",
   "execution_count": 70,
   "id": "09b028ea-6a5e-4420-ac69-fdf40125632c",
   "metadata": {},
   "outputs": [
    {
     "data": {
      "text/plain": [
       "True"
      ]
     },
     "execution_count": 70,
     "metadata": {},
     "output_type": "execute_result"
    }
   ],
   "source": [
    "x <= y"
   ]
  },
  {
   "cell_type": "code",
   "execution_count": 71,
   "id": "a1d5b453-abf9-4d36-86aa-b44226b280ed",
   "metadata": {},
   "outputs": [
    {
     "data": {
      "text/plain": [
       "False"
      ]
     },
     "execution_count": 71,
     "metadata": {},
     "output_type": "execute_result"
    }
   ],
   "source": [
    "x == y"
   ]
  },
  {
   "cell_type": "code",
   "execution_count": 72,
   "id": "a1f3c746-c3d7-46a3-83ca-c4888db77fef",
   "metadata": {},
   "outputs": [
    {
     "data": {
      "text/plain": [
       "False"
      ]
     },
     "execution_count": 72,
     "metadata": {},
     "output_type": "execute_result"
    }
   ],
   "source": [
    "x < y < z == calculation"
   ]
  },
  {
   "cell_type": "code",
   "execution_count": 73,
   "id": "331a1ede-a820-4136-8efa-d29586a038ea",
   "metadata": {},
   "outputs": [
    {
     "data": {
      "text/plain": [
       "True"
      ]
     },
     "execution_count": 73,
     "metadata": {},
     "output_type": "execute_result"
    }
   ],
   "source": [
    "z != y"
   ]
  },
  {
   "cell_type": "code",
   "execution_count": null,
   "id": "592fc022-b081-4ce2-928d-b4d53f181702",
   "metadata": {},
   "outputs": [],
   "source": []
  },
  {
   "cell_type": "markdown",
   "id": "803ab115-a724-44ec-8aa2-a606ad2ff5fe",
   "metadata": {},
   "source": [
    "### Logical operator"
   ]
  },
  {
   "cell_type": "code",
   "execution_count": null,
   "id": "cb09eb82-5bbc-4071-8cd8-6cd849fcdbf4",
   "metadata": {},
   "outputs": [],
   "source": [
    "and\n",
    "or\n",
    "not\n",
    "is\n",
    "in"
   ]
  },
  {
   "cell_type": "code",
   "execution_count": 77,
   "id": "0dd52b83-60ce-4e0b-9798-5de673ea7c9d",
   "metadata": {},
   "outputs": [
    {
     "data": {
      "text/plain": [
       "True"
      ]
     },
     "execution_count": 77,
     "metadata": {},
     "output_type": "execute_result"
    }
   ],
   "source": [
    "10 < 20 and 20 < 30"
   ]
  },
  {
   "cell_type": "code",
   "execution_count": null,
   "id": "28bb01a1-2157-46ec-8b33-bf939735a048",
   "metadata": {},
   "outputs": [],
   "source": [
    "T and F - F\n",
    "F and T - F\n",
    "F and F - F\n",
    "T and T - T"
   ]
  },
  {
   "cell_type": "code",
   "execution_count": 78,
   "id": "02e36e38-19f2-4c1b-9a4d-2ae15be02794",
   "metadata": {},
   "outputs": [
    {
     "data": {
      "text/plain": [
       "True"
      ]
     },
     "execution_count": 78,
     "metadata": {},
     "output_type": "execute_result"
    }
   ],
   "source": [
    "10 < 20 or 20 > 30"
   ]
  },
  {
   "cell_type": "code",
   "execution_count": null,
   "id": "e2e88c19-0719-4d39-95f5-f3cb2934cb13",
   "metadata": {},
   "outputs": [],
   "source": [
    "T or T - T\n",
    "T or F - T\n",
    "F or T - T\n",
    "F or F - F"
   ]
  },
  {
   "cell_type": "code",
   "execution_count": 80,
   "id": "97760ae2-c510-42b1-9306-e39ec3db2c93",
   "metadata": {},
   "outputs": [
    {
     "data": {
      "text/plain": [
       "False"
      ]
     },
     "execution_count": 80,
     "metadata": {},
     "output_type": "execute_result"
    }
   ],
   "source": [
    "10 > 20 or 20 > 30"
   ]
  },
  {
   "cell_type": "code",
   "execution_count": 82,
   "id": "ba6b2e83-e965-43e5-986f-a99cad70b7f7",
   "metadata": {},
   "outputs": [
    {
     "data": {
      "text/plain": [
       "True"
      ]
     },
     "execution_count": 82,
     "metadata": {},
     "output_type": "execute_result"
    }
   ],
   "source": [
    "not(10 > 20 )"
   ]
  },
  {
   "cell_type": "code",
   "execution_count": 84,
   "id": "9986bbf0-76ff-4eca-8f9c-b0fb53893446",
   "metadata": {},
   "outputs": [
    {
     "data": {
      "text/plain": [
       "False"
      ]
     },
     "execution_count": 84,
     "metadata": {},
     "output_type": "execute_result"
    }
   ],
   "source": [
    "55 in [1,2,3,4,5,6] "
   ]
  },
  {
   "cell_type": "code",
   "execution_count": 85,
   "id": "6e02a1c8-50fa-4bdb-b236-2c42d1c94e7a",
   "metadata": {},
   "outputs": [
    {
     "data": {
      "text/plain": [
       "False"
      ]
     },
     "execution_count": 85,
     "metadata": {},
     "output_type": "execute_result"
    }
   ],
   "source": [
    "x is y"
   ]
  },
  {
   "cell_type": "code",
   "execution_count": 86,
   "id": "43aa2db6-2eed-49a3-bf6b-09deb00b642d",
   "metadata": {},
   "outputs": [
    {
     "data": {
      "text/plain": [
       "False"
      ]
     },
     "execution_count": 86,
     "metadata": {},
     "output_type": "execute_result"
    }
   ],
   "source": [
    "x is z"
   ]
  },
  {
   "cell_type": "code",
   "execution_count": 87,
   "id": "8f2e0bab-0b20-4dd1-96e8-6d43bbb2f54a",
   "metadata": {},
   "outputs": [
    {
     "data": {
      "text/plain": [
       "True"
      ]
     },
     "execution_count": 87,
     "metadata": {},
     "output_type": "execute_result"
    }
   ],
   "source": [
    "x is x"
   ]
  },
  {
   "cell_type": "code",
   "execution_count": 88,
   "id": "33d9c764-bcf4-4daf-b9c1-96a99f733b45",
   "metadata": {},
   "outputs": [],
   "source": [
    "language = \"python\""
   ]
  },
  {
   "cell_type": "code",
   "execution_count": 89,
   "id": "352ee50d-18e8-4549-80e3-fc0f250ebb60",
   "metadata": {},
   "outputs": [
    {
     "data": {
      "text/plain": [
       "False"
      ]
     },
     "execution_count": 89,
     "metadata": {},
     "output_type": "execute_result"
    }
   ],
   "source": [
    "\"P\" in language"
   ]
  },
  {
   "cell_type": "code",
   "execution_count": 90,
   "id": "9832a532-f19b-4dc4-a18f-f1b5f465c5e1",
   "metadata": {},
   "outputs": [
    {
     "data": {
      "text/plain": [
       "True"
      ]
     },
     "execution_count": 90,
     "metadata": {},
     "output_type": "execute_result"
    }
   ],
   "source": [
    "\"on\" in language"
   ]
  },
  {
   "cell_type": "code",
   "execution_count": null,
   "id": "8e9819e8-56ef-4d79-a067-89c5957e3b9e",
   "metadata": {},
   "outputs": [],
   "source": []
  },
  {
   "cell_type": "markdown",
   "id": "7566357f-e290-4f7f-b1ee-95b8b21f6221",
   "metadata": {},
   "source": [
    "# python"
   ]
  },
  {
   "cell_type": "markdown",
   "id": "9041d0a2-7c1d-463a-877a-806fdc0f6790",
   "metadata": {},
   "source": [
    "## python"
   ]
  },
  {
   "cell_type": "markdown",
   "id": "fc99eea3-b10a-4d07-8137-1024b831b4b9",
   "metadata": {},
   "source": [
    "### python"
   ]
  },
  {
   "cell_type": "code",
   "execution_count": 7,
   "id": "867fa50b-4d3b-4a93-9d48-a47615d3006f",
   "metadata": {},
   "outputs": [
    {
     "name": "stdin",
     "output_type": "stream",
     "text": [
      " 40\n",
      " 20\n"
     ]
    }
   ],
   "source": [
    "length= int(input())\n",
    "width = int(input())"
   ]
  },
  {
   "cell_type": "code",
   "execution_count": 8,
   "id": "524913f7-d263-425e-8c7c-4dd868b47ebb",
   "metadata": {},
   "outputs": [
    {
     "data": {
      "text/plain": [
       "40"
      ]
     },
     "execution_count": 8,
     "metadata": {},
     "output_type": "execute_result"
    }
   ],
   "source": [
    "length"
   ]
  },
  {
   "cell_type": "code",
   "execution_count": 9,
   "id": "e4c7ecf8-f700-481e-b65d-e921152b66fa",
   "metadata": {},
   "outputs": [
    {
     "data": {
      "text/plain": [
       "20"
      ]
     },
     "execution_count": 9,
     "metadata": {},
     "output_type": "execute_result"
    }
   ],
   "source": [
    "width"
   ]
  },
  {
   "cell_type": "code",
   "execution_count": 10,
   "id": "48484749-10ab-45ab-95b3-208e5d06d6f2",
   "metadata": {},
   "outputs": [],
   "source": [
    "area = length * width"
   ]
  },
  {
   "cell_type": "code",
   "execution_count": 11,
   "id": "103c02d4-9fa9-476c-b4d0-f62052144c17",
   "metadata": {},
   "outputs": [
    {
     "data": {
      "text/plain": [
       "800"
      ]
     },
     "execution_count": 11,
     "metadata": {},
     "output_type": "execute_result"
    }
   ],
   "source": [
    "area"
   ]
  },
  {
   "cell_type": "code",
   "execution_count": null,
   "id": "2c47f428-9bf4-4bb7-a44f-45e29db318f6",
   "metadata": {},
   "outputs": [],
   "source": []
  }
 ],
 "metadata": {
  "kernelspec": {
   "display_name": "Python 3 (ipykernel)",
   "language": "python",
   "name": "python3"
  },
  "language_info": {
   "codemirror_mode": {
    "name": "ipython",
    "version": 3
   },
   "file_extension": ".py",
   "mimetype": "text/x-python",
   "name": "python",
   "nbconvert_exporter": "python",
   "pygments_lexer": "ipython3",
   "version": "3.11.7"
  }
 },
 "nbformat": 4,
 "nbformat_minor": 5
}
